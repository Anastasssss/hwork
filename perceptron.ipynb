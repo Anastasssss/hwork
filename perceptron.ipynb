{
  "nbformat": 4,
  "nbformat_minor": 0,
  "metadata": {
    "colab": {
      "provenance": []
    },
    "kernelspec": {
      "name": "python3",
      "display_name": "Python 3"
    },
    "language_info": {
      "name": "python"
    }
  },
  "cells": [
    {
      "cell_type": "code",
      "source": [
        "from keras.utils import np_utils \n",
        "from keras.datasets import mnist \n",
        "\n",
        "\n",
        "from keras.models import Sequential \n",
        "from keras.layers import Dense, Activation \n",
        "\n",
        "\n",
        "from keras.initializers import RandomNormal"
      ],
      "metadata": {
        "id": "H0FSRbG3zPWn"
      },
      "execution_count": null,
      "outputs": []
    },
    {
      "cell_type": "code",
      "source": [
        "(X_train, y_train), (X_test, y_test) = mnist.load_data()"
      ],
      "metadata": {
        "id": "beNuYw5VzQK2",
        "colab": {
          "base_uri": "https://localhost:8080/"
        },
        "outputId": "05240690-f895-41c3-9c1b-f3d8ffa2931d"
      },
      "execution_count": null,
      "outputs": [
        {
          "output_type": "stream",
          "name": "stdout",
          "text": [
            "Downloading data from https://storage.googleapis.com/tensorflow/tf-keras-datasets/mnist.npz\n",
            "11490434/11490434 [==============================] - 1s 0us/step\n"
          ]
        }
      ]
    },
    {
      "cell_type": "code",
      "source": [
        "print(\"Количество тренировочных :\", X_train.shape[0], \"Размерность (%d, %d)\"%(X_train.shape[1], X_train.shape[2]))\n",
        "print(\"Количество тестовых :\", X_test.shape[0], \"Размерность (%d, %d)\"%(X_test.shape[1], X_test.shape[2]))\n"
      ],
      "metadata": {
        "colab": {
          "base_uri": "https://localhost:8080/"
        },
        "id": "fTu9XygKzSZs",
        "outputId": "82f0c8d7-2d6e-4c2d-aa85-6511174804b4"
      },
      "execution_count": null,
      "outputs": [
        {
          "output_type": "stream",
          "name": "stdout",
          "text": [
            "Количество тренировочных : 60000 Размерность (28, 28)\n",
            "Количество тестовых : 10000 Размерность (28, 28)\n"
          ]
        }
      ]
    },
    {
      "cell_type": "code",
      "source": [
        "X_train = X_train.reshape(X_train.shape[0], X_train.shape[1]*X_train.shape[2]) \n",
        "X_test = X_test.reshape(X_test.shape[0], X_test.shape[1]*X_test.shape[2]) \n",
        "\n",
        "# after converting the input images from 3d to 2d vectors\n",
        "\n",
        "print(\"Количество тренировочных :\", X_train.shape[0], \"Размерность (%d)\"%(X_train.shape[1]))\n",
        "print(\"Количество тестовых :\", X_test.shape[0], \"Размерность (%d)\"%(X_test.shape[1]))\n"
      ],
      "metadata": {
        "colab": {
          "base_uri": "https://localhost:8080/"
        },
        "id": "iXqfJL6szXar",
        "outputId": "020824be-935d-4d76-9736-25fdb97d4580"
      },
      "execution_count": null,
      "outputs": [
        {
          "output_type": "stream",
          "name": "stdout",
          "text": [
            "Количество тренировочных : 60000 Размерность (784)\n",
            "Количество тестовых : 10000 Размерность (784)\n"
          ]
        }
      ]
    },
    {
      "cell_type": "code",
      "source": [
        "# Нормализация от 0 до 1\n",
        "X_train = X_train/255\n",
        "X_test = X_test/255"
      ],
      "metadata": {
        "id": "IQP5_baKzawg"
      },
      "execution_count": null,
      "outputs": []
    },
    {
      "cell_type": "code",
      "source": [
        "# Ответы теперь не просто чисто, а вектор\n",
        "Y_train = np_utils.to_categorical(y_train, 10) #one hot incoding\n",
        "Y_test = np_utils.to_categorical(y_test, 10)#one hot incoding"
      ],
      "metadata": {
        "id": "_PNHNyY60bd4"
      },
      "execution_count": null,
      "outputs": []
    },
    {
      "cell_type": "code",
      "source": [
        "print(\"Получившийся вектор: \",Y_train[0])\n"
      ],
      "metadata": {
        "colab": {
          "base_uri": "https://localhost:8080/"
        },
        "id": "RqHP5pMGzk4u",
        "outputId": "7557d8c3-e030-4bec-f1a8-452a91795f26"
      },
      "execution_count": null,
      "outputs": [
        {
          "output_type": "stream",
          "name": "stdout",
          "text": [
            "Получившийся вектор:  [0. 0. 0. 0. 0. 1. 0. 0. 0. 0.]\n"
          ]
        }
      ]
    },
    {
      "cell_type": "markdown",
      "source": [
        "\n",
        "MLP + ReLU +SGD\n",
        "\n"
      ],
      "metadata": {
        "id": "WwcMwlY30Cji"
      }
    },
    {
      "cell_type": "code",
      "source": [
        "output_dim = 10\n",
        "input_dim = X_train.shape[1]\n",
        "\n",
        "batch_size = 128 \n",
        "nb_epoch = 20\n"
      ],
      "metadata": {
        "id": "vFn3NsuH0QZq"
      },
      "execution_count": null,
      "outputs": []
    },
    {
      "cell_type": "code",
      "source": [
        "# 3 слоя.\n",
        "model_relu = Sequential()\n",
        "model_relu.add(Dense(512, activation='relu', input_shape=(input_dim,), kernel_initializer=RandomNormal(mean=0.0, stddev=0.062, seed=None))) # Входной \n",
        "model_relu.add(Dense(128, activation='relu', kernel_initializer=RandomNormal(mean=0.0, stddev=0.125, seed=None)) ) # Промежуточный\n",
        "model_relu.add(Dense(output_dim, activation='softmax')) # Выходной\n",
        "\n",
        "model_relu.summary()"
      ],
      "metadata": {
        "colab": {
          "base_uri": "https://localhost:8080/"
        },
        "id": "xp4QZSS6z_cs",
        "outputId": "cbe0c525-ab47-4872-f086-2b8fbe24bd6f"
      },
      "execution_count": null,
      "outputs": [
        {
          "output_type": "stream",
          "name": "stdout",
          "text": [
            "Model: \"sequential_1\"\n",
            "_________________________________________________________________\n",
            " Layer (type)                Output Shape              Param #   \n",
            "=================================================================\n",
            " dense_2 (Dense)             (None, 512)               401920    \n",
            "                                                                 \n",
            " dense_3 (Dense)             (None, 128)               65664     \n",
            "                                                                 \n",
            " dense_4 (Dense)             (None, 10)                1290      \n",
            "                                                                 \n",
            "=================================================================\n",
            "Total params: 468,874\n",
            "Trainable params: 468,874\n",
            "Non-trainable params: 0\n",
            "_________________________________________________________________\n"
          ]
        }
      ]
    },
    {
      "cell_type": "code",
      "source": [
        "model_relu.compile(optimizer='sgd', loss='categorical_crossentropy', metrics=['accuracy'])\n",
        "\n",
        "history = model_relu.fit(X_train, Y_train, batch_size=batch_size, epochs=nb_epoch, verbose=1, validation_data=(X_test, Y_test))\n",
        "\n"
      ],
      "metadata": {
        "colab": {
          "base_uri": "https://localhost:8080/"
        },
        "id": "TJ7uHlYM1sEE",
        "outputId": "426b9012-38cb-4640-c343-e854509d3081"
      },
      "execution_count": null,
      "outputs": [
        {
          "output_type": "stream",
          "name": "stdout",
          "text": [
            "Epoch 1/20\n",
            "469/469 [==============================] - 8s 15ms/step - loss: 0.7531 - accuracy: 0.7896 - val_loss: 0.3798 - val_accuracy: 0.8984\n",
            "Epoch 2/20\n",
            "469/469 [==============================] - 5s 11ms/step - loss: 0.3534 - accuracy: 0.9010 - val_loss: 0.2937 - val_accuracy: 0.9166\n",
            "Epoch 3/20\n",
            "469/469 [==============================] - 6s 13ms/step - loss: 0.2912 - accuracy: 0.9183 - val_loss: 0.2573 - val_accuracy: 0.9265\n",
            "Epoch 4/20\n",
            "469/469 [==============================] - 5s 11ms/step - loss: 0.2570 - accuracy: 0.9281 - val_loss: 0.2321 - val_accuracy: 0.9345\n",
            "Epoch 5/20\n",
            "469/469 [==============================] - 5s 11ms/step - loss: 0.2333 - accuracy: 0.9346 - val_loss: 0.2147 - val_accuracy: 0.9376\n",
            "Epoch 6/20\n",
            "469/469 [==============================] - 5s 10ms/step - loss: 0.2149 - accuracy: 0.9403 - val_loss: 0.2010 - val_accuracy: 0.9423\n",
            "Epoch 7/20\n",
            "469/469 [==============================] - 5s 10ms/step - loss: 0.1999 - accuracy: 0.9446 - val_loss: 0.1896 - val_accuracy: 0.9440\n",
            "Epoch 8/20\n",
            "469/469 [==============================] - 5s 10ms/step - loss: 0.1875 - accuracy: 0.9479 - val_loss: 0.1809 - val_accuracy: 0.9467\n",
            "Epoch 9/20\n",
            "469/469 [==============================] - 5s 10ms/step - loss: 0.1765 - accuracy: 0.9508 - val_loss: 0.1720 - val_accuracy: 0.9494\n",
            "Epoch 10/20\n",
            "469/469 [==============================] - 5s 11ms/step - loss: 0.1668 - accuracy: 0.9536 - val_loss: 0.1660 - val_accuracy: 0.9513\n",
            "Epoch 11/20\n",
            "469/469 [==============================] - 5s 11ms/step - loss: 0.1583 - accuracy: 0.9560 - val_loss: 0.1578 - val_accuracy: 0.9534\n",
            "Epoch 12/20\n",
            "469/469 [==============================] - 6s 13ms/step - loss: 0.1507 - accuracy: 0.9584 - val_loss: 0.1545 - val_accuracy: 0.9552\n",
            "Epoch 13/20\n",
            "469/469 [==============================] - 5s 10ms/step - loss: 0.1437 - accuracy: 0.9604 - val_loss: 0.1468 - val_accuracy: 0.9577\n",
            "Epoch 14/20\n",
            "469/469 [==============================] - 5s 10ms/step - loss: 0.1371 - accuracy: 0.9617 - val_loss: 0.1416 - val_accuracy: 0.9580\n",
            "Epoch 15/20\n",
            "469/469 [==============================] - 5s 11ms/step - loss: 0.1315 - accuracy: 0.9636 - val_loss: 0.1382 - val_accuracy: 0.9595\n",
            "Epoch 16/20\n",
            "469/469 [==============================] - 5s 10ms/step - loss: 0.1261 - accuracy: 0.9647 - val_loss: 0.1336 - val_accuracy: 0.9603\n",
            "Epoch 17/20\n",
            "469/469 [==============================] - 5s 10ms/step - loss: 0.1210 - accuracy: 0.9668 - val_loss: 0.1301 - val_accuracy: 0.9625\n",
            "Epoch 18/20\n",
            "469/469 [==============================] - 5s 10ms/step - loss: 0.1165 - accuracy: 0.9681 - val_loss: 0.1265 - val_accuracy: 0.9625\n",
            "Epoch 19/20\n",
            "469/469 [==============================] - 5s 10ms/step - loss: 0.1120 - accuracy: 0.9695 - val_loss: 0.1232 - val_accuracy: 0.9635\n",
            "Epoch 20/20\n",
            "469/469 [==============================] - 5s 11ms/step - loss: 0.1080 - accuracy: 0.9700 - val_loss: 0.1199 - val_accuracy: 0.9640\n"
          ]
        }
      ]
    },
    {
      "cell_type": "code",
      "source": [
        "score = model_relu.evaluate(X_test, Y_test, verbose=0) \n",
        "print('Точность на тестовых данных', score[1])"
      ],
      "metadata": {
        "id": "yR6YoO8z1sRk",
        "colab": {
          "base_uri": "https://localhost:8080/"
        },
        "outputId": "53185dbe-ec66-4bd7-e276-1c324af3297d"
      },
      "execution_count": null,
      "outputs": [
        {
          "output_type": "stream",
          "name": "stdout",
          "text": [
            "Точность на тестовых данных 0.9650999903678894\n"
          ]
        }
      ]
    },
    {
      "cell_type": "code",
      "source": [],
      "metadata": {
        "id": "dt4KpmkD_oYq"
      },
      "execution_count": null,
      "outputs": []
    }
  ]
}